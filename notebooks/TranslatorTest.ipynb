{
 "cells": [
  {
   "cell_type": "code",
   "execution_count": 28,
   "id": "a8d3e960-961a-4cad-9bb8-6498efa747fe",
   "metadata": {},
   "outputs": [],
   "source": [
    "import { createTranslationGraph, createTranslatorSubgraph } from 'translator-graph';"
   ]
  },
  {
   "cell_type": "code",
   "execution_count": 29,
   "id": "48e0f23e-af98-4ca4-8258-94d553ac9629",
   "metadata": {},
   "outputs": [
    {
     "name": "stdout",
     "output_type": "stream",
     "text": [
      "/Users/kdsouza/Documents/Projects/cacerts/ZscalerRoot.pem\n"
     ]
    }
   ],
   "source": [
    "process.env.NODE_EXTRA_CA_CERTS = '/Users/kdsouza/Documents/Projects/cacerts/ZscalerRoot.pem';"
   ]
  },
  {
   "cell_type": "code",
   "execution_count": 30,
   "id": "103e0ed8-59e3-4312-9c22-dd6afd6c1cf5",
   "metadata": {},
   "outputs": [],
   "source": [
    "import * as tslab from \"tslab\";"
   ]
  },
  {
   "cell_type": "code",
   "execution_count": 31,
   "id": "1b0d5955-10f9-4a58-adc8-808d21480e4e",
   "metadata": {},
   "outputs": [
    {
     "data": {
      "image/png": "[encoded data removed]"
     },
     "metadata": {},
     "output_type": "display_data"
    }
   ],
   "source": [
    "const graph = createTranslationGraph();\n",
    "const representation = graph.getGraph();\n",
    "const image = await representation.drawMermaidPng();\n",
    "const arrayBuffer = await image.arrayBuffer();\n",
    "\n",
    "await tslab.display.png(new Uint8Array(arrayBuffer));"
   ]
  },
  {
   "cell_type": "code",
   "execution_count": 32,
   "id": "4a40b6b8-3e80-4c92-a64e-168f4ee40f5b",
   "metadata": {},
   "outputs": [
    {
     "name": "stderr",
     "output_type": "stream",
     "text": [
      "TypeError: exports.createTranslatorSubgraph is not a function\n",
      "    at evalmachine.<anonymous>:3:23\n",
      "    at evalmachine.<anonymous>:13:3\n",
      "\u001b[90m    at sigintHandlersWrap (node:vm:279:12)\u001b[39m\n",
      "\u001b[90m    at Script.runInThisContext (node:vm:134:14)\u001b[39m\n",
      "\u001b[90m    at Object.runInThisContext (node:vm:316:38)\u001b[39m\n",
      "    at Object.execute (/usr/local/lib/node_modules/\u001b[4mtslab\u001b[24m/dist/executor.js:160:38)\n",
      "    at JupyterHandlerImpl.handleExecuteImpl (/usr/local/lib/node_modules/\u001b[4mtslab\u001b[24m/dist/jupyter.js:250:38)\n",
      "    at /usr/local/lib/node_modules/\u001b[4mtslab\u001b[24m/dist/jupyter.js:208:57\n",
      "    at async JupyterHandlerImpl.handleExecute (/usr/local/lib/node_modules/\u001b[4mtslab\u001b[24m/dist/jupyter.js:208:21)\n",
      "    at async ZmqServer.handleExecute (/usr/local/lib/node_modules/\u001b[4mtslab\u001b[24m/dist/jupyter.js:406:25)\n"
     ]
    }
   ],
   "source": [
    "const graph = createTranslatorSubgraph();\n",
    "const representation = graph.getGraph();\n",
    "const image = await representation.drawMermaidPng();\n",
    "const arrayBuffer = await image.arrayBuffer();\n",
    "\n",
    "await tslab.display.png(new Uint8Array(arrayBuffer));"
   ]
  },
  {
   "cell_type": "code",
   "execution_count": null,
   "id": "287cfa51-fe32-4e8a-9a2d-fa7471652f65",
   "metadata": {},
   "outputs": [],
   "source": []
  },
  {
   "cell_type": "code",
   "execution_count": null,
   "id": "d57db4f6-ee68-4adc-ab39-cf87b0fea68d",
   "metadata": {},
   "outputs": [],
   "source": []
  }
 ],
 "metadata": {
  "kernelspec": {
   "display_name": "TypeScript",
   "language": "typescript",
   "name": "tslab"
  },
  "language_info": {
   "codemirror_mode": {
    "mode": "typescript",
    "name": "javascript",
    "typescript": true
   },
   "file_extension": ".ts",
   "mimetype": "text/typescript",
   "name": "typescript",
   "version": "3.7.2"
  }
 },
 "nbformat": 4,
 "nbformat_minor": 5
}
