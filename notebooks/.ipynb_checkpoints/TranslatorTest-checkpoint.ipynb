{
 "cells": [
  {
   "cell_type": "code",
   "execution_count": null,
   "id": "a8d3e960-961a-4cad-9bb8-6498efa747fe",
   "metadata": {},
   "outputs": [],
   "source": [
    "import { createTranslationGraph, createTranslatorSubgraph } from 'translator-graph';"
   ]
  },
  {
   "cell_type": "code",
   "execution_count": null,
   "id": "48e0f23e-af98-4ca4-8258-94d553ac9629",
   "metadata": {},
   "outputs": [],
   "source": [
    "process.env.NODE_EXTRA_CA_CERTS = '/Users/kdsouza/Documents/Projects/cacerts/ZscalerRoot.pem';"
   ]
  },
  {
   "cell_type": "code",
   "execution_count": null,
   "id": "103e0ed8-59e3-4312-9c22-dd6afd6c1cf5",
   "metadata": {},
   "outputs": [],
   "source": [
    "import * as tslab from \"tslab\";"
   ]
  },
  {
   "cell_type": "code",
   "execution_count": null,
   "id": "1b0d5955-10f9-4a58-adc8-808d21480e4e",
   "metadata": {},
   "outputs": [],
   "source": [
    "const graph = createTranslationGraph();\n",
    "const representation = graph.getGraph();\n",
    "const image = await representation.drawMermaidPng();\n",
    "const arrayBuffer = await image.arrayBuffer();\n",
    "\n",
    "await tslab.display.png(new Uint8Array(arrayBuffer));"
   ]
  },
  {
   "cell_type": "code",
   "execution_count": null,
   "id": "4a40b6b8-3e80-4c92-a64e-168f4ee40f5b",
   "metadata": {},
   "outputs": [],
   "source": [
    "const graph = createTranslatorSubgraph();\n",
    "const representation = graph.getGraph();\n",
    "const image = await representation.drawMermaidPng();\n",
    "const arrayBuffer = await image.arrayBuffer();\n",
    "\n",
    "await tslab.display.png(new Uint8Array(arrayBuffer));"
   ]
  },
  {
   "cell_type": "code",
   "execution_count": null,
   "id": "287cfa51-fe32-4e8a-9a2d-fa7471652f65",
   "metadata": {},
   "outputs": [],
   "source": [
    "import { createTranslationGraph, translateContent } from 'translator-graph';"
   ]
  },
  {
   "cell_type": "code",
   "execution_count": null,
   "id": "3cab24d1-04c1-475a-b22f-b5f9ecfc1e65",
   "metadata": {},
   "outputs": [],
   "source": [
    "const htmlContent = `\n",
    "\\n<figure class=\\\"wp-block-image size-large\\\"><img loading=\\\"lazy\\\" decoding=\\\"async\\\" width=\\\"1920\\\" height=\\\"1080\\\" src=\\\"https://media.post.rvohealth.io/wp-content/uploads/2024/05/pregnant-female-yoga-1296x728-header-1296x729.jpg\\\" alt=\\\"Pregnant woman does yoga on a pink yoga mat.\\\" class=\\\"wp-image-3663213\\\" srcset=\\\"https://media.post-stage.rvohealth.io/wp-content/uploads/2024/05/pregnant-female-yoga-1296x728-header-1296x729.jpg 1296w, https://media.post-stage.rvohealth.io/wp-content/uploads/2024/05/pregnant-female-yoga-1296x728-header-300x169.jpg 300w, https://media.post-stage.rvohealth.io/wp-content/uploads/2024/05/pregnant-female-yoga-1296x728-header-768x432.jpg 768w, https://media.post-stage.rvohealth.io/wp-content/uploads/2024/05/pregnant-female-yoga-1296x728-header-1536x864.jpg 1536w, https://media.post-stage.rvohealth.io/wp-content/uploads/2024/05/pregnant-female-yoga-1296x728-header-1208x679.jpg 1208w, https://media.post-stage.rvohealth.io/wp-content/uploads/2024/05/pregnant-female-yoga-1296x728-header.jpg 1920w\\\" sizes=\\\"(max-width: 1920px) 100vw, 1920px\\\" /><figcaption>A new study looks at the effects of chemicals like PFAS, BPA and phthalates during pregnancy. Fly View Productions/Getty Images</figcaption></figure>\\n\\n\\n\\n<ul>\\n<li><strong>A large European study of mothers and their offspring finds children can be impacted by endocrine-disrupting chemicals. </strong></li>\\n\\n\\n\\n<li><strong>The study found that women with higher exposure to these chemicals while pregnant had children who were more likely to develop obesity.</strong></li>\\n\\n\\n\\n<li><strong>Endocrine-disrupting chemicals like BPA, phthalates, and PFAS are widespread in consumer products</strong></li>\\n</ul>\\n\\n\\n\\n\\n\\n\\n\\n<p>Prenatal exposure to various endocrine-disrupting chemicals —&nbsp; including metals, plastics, and pesticides — have been linked to a cluster of health problems in childhood, including obesity, according to a large multi-national European study.</p>\\n\\n\\n\\n\\n\\n<p>The first-of-its-kind study, published in <a href=\\\"https://jamanetwork.com/journals/jamanetworkopen/fullarticle/10.1001/jamanetworkopen.2024.12040?guestAccessKey=1d7715d6-a804-4c49-9160-868b40fde97f\\\" target=\\\"_blank\\\" rel=\\\"noreferrer noopener\\\"><em>JAMA Network Open</em></a> May 23, looked at the effects of 45 different <a href=\\\"https://www.niehs.nih.gov/health/topics/agents/endocrine\\\" target=\\\"_blank\\\" rel=\\\"noreferrer noopener\\\">endocrine- disrupting chemicals</a> (EDCs) on children who were exposed to them in utero. EDCs can be naturally occurring or human-made chemicals that interfere with hormones in the body, and are associated with a wide array of health issues, including obesity.</p>\\n\\n\\n\\n\\n\\n<p>“When the mothers were exposed to higher levels of mixtures of endocrine disrupting chemicals, specifically metals (mainly mercury), perfluoroalkylated and polyfluoroalkylated substances (PFAS), organochlorine pesticides, and flame retardants (or PBDEs), their children had a higher risk of metabolic syndrome at age 6-11 years,” <a href=\\\"https://www.isglobal.org/our-team/-/profiles/18514\\\" target=\\\"_blank\\\" rel=\\\"noreferrer noopener\\\">Martine Vrijheid, PhD,</a> a Professor at IS Global in Barcelona, Spain, and senior author of the research, told Healthline.</p>\\n\\n\\n\\n<p>PFAS have also been called <a href=\\\"/health/healthy-home/forever-chemicals-in-water#what-are-pfas\\\" target=\\\"_blank\\\" rel=\\\"noreferrer noopener\\\">&#8220;forever chemicals&#8221;</a> because they take a long time to break down. </p>\\n\\n\\n\\n\\n\\n<p><a rel=\\\"noreferrer noopener\\\" href=\\\"https://publications.aap.org/pediatrics/article/140/2/e20171603/38714/The-Metabolic-Syndrome-in-Children-and-Adolescents?autologincheck=redirected\\\" target=\\\"_blank\\\">Pediatric metabolic syndrome</a> refers to a cluster of interconnected conditions including <a rel=\\\"noreferrer noopener\\\" href=\\\"/health/obesity\\\" target=\\\"_blank\\\">obesity</a>, <a href=\\\"/health/high-cholesterol\\\">high cholesterol, </a>high blood pressure, and glucose intolerance. While there are many factors driving the <a rel=\\\"noreferrer noopener\\\" href=\\\"https://www.hsph.harvard.edu/obesity-prevention-source/global-obesity-trends-in-children/\\\" target=\\\"_blank\\\">childhood obesity epidemic</a>, the role of <a rel=\\\"noreferrer noopener\\\" href=\\\"https://ec.bioscientifica.com/view/journals/ec/10/2/EC-20-0578.xml\\\" target=\\\"_blank\\\">EDCs</a> in this complex equation cannot be disputed.</p>\\n\\n\\n\\n<p>“You have all this data, not just in this study but other studies as well, that show that endocrine disruptors promote everything that we&#8217;re trying to prevent or treat in child and adolescent obesity,” said <a href=\\\"https://profiles.hopkinsmedicine.org/provider/Stephanie+E.+Green/2700892\\\" target=\\\"_blank\\\" rel=\\\"noreferrer noopener\\\">Stephanie E. Green, MD, MS,</a> a Pediatric Endocrinologist at Johns Hopkins Medicine who wasn’t affiliated with the research.</p>\\n\\n\\n\\n<h2>Data from more than 1,100 mothers and their children</h2>\\n\\n\\n\\n<p>Vrijheid and a large team of researchers used longitudinal health data from the Human Early Life Exposome (HELIX Project), an ongoing collaboration of health studies in Europe. The study looked at a total of 1,134 mother and child duos from six European countries including Spain, France, Greece, Lithuania, Norway and the United Kingdom.</p>\\n\\n\\n\\n<p>Pregnant women were recruited for the study between 2003-2009. Researchers took biological samples from the women including urinary metabolites and blood biomarkers to check for the presence of 45 different EDCs. Unlike in previous research on the subject, the team didn’t target single&nbsp; EDCs, but instead looked at the effects of mixtures of the chemicals, which are more representative of real-world exposure.</p>\\n\\n\\n\\n\\n\\n<p>Once the women had a&nbsp;child, the team continued to follow up with them until 2016, when the children were between the ages of 6 and 11.&nbsp;</p>\\n\\n\\n\\n<p>Doctors assessed the children using a composite metabolic syndrome risk measurement system including waist circumference, blood pressure, urine and blood metabolites, insulin levels, and cholesterol.</p>\\n\\n\\n\\n<p>Children of mothers with higher levels of exposure to some, but not all, of the EDCs had an increased risk of metabolic syndrome during childhood.&nbsp;&nbsp;</p>\\n\\n\\n\\n<p>“The associations we saw were related to exposure to mixtures of chemicals, rather than one single chemical. This highlights the importance of studying the health effects of everyday mixtures of chemicals, rather than looking at them one-by-one,” said Vrijheid.</p>\\n\\n\\n\\n<h2>Which chemicals were associated with obesity?</h2>\\n\\n\\n\\n<p>Endocrine-disrupting chemicals exist in the natural world. However, more commonly, they are found in a wide variety of commercially used products today.</p>\\n\\n\\n\\n\\n\\n<p>Some varieties that researchers investigated include:</p>\\n\\n\\n\\n<ul>\\n<li><a href=\\\"https://www.fda.gov/cosmetics/cosmetic-ingredients/parabens-cosmetics\\\" target=\\\"_blank\\\" rel=\\\"noreferrer noopener\\\">Parabens</a> &#8211; chemicals commonly used as preservatives that are found in food, cosmetics, and drugs</li>\\n\\n\\n\\n<li><a href=\\\"https://www.niehs.nih.gov/health/topics/agents/pfc#:~:text=What%20Are%20PFAS%3F,ingredients%20in%20various%20everyday%20products\\\" target=\\\"_blank\\\" rel=\\\"noreferrer noopener\\\">Perfluoroalkyl and Polyfluoroalkyl Substances (PFAS)</a> &#8211; so-called <a href=\\\"https://www.epa.gov/newsreleases/biden-harris-administration-finalizes-first-ever-national-drinking-water-standard\\\" target=\\\"_blank\\\" rel=\\\"noreferrer noopener\\\">“forever chemicals” </a>commonly found in plastics, food packaging, and cookware</li>\\n\\n\\n\\n<li><a href=\\\"https://www.niehs.nih.gov/health/topics/agents/sya-bpa\\\" target=\\\"_blank\\\" rel=\\\"noreferrer noopener\\\">Bisphenol A (BPA)</a> &#8211; a chemical primarily used in plastics used for water bottles and metal food cans</li>\\n\\n\\n\\n<li><a href=\\\"https://www.ncbi.nlm.nih.gov/pmc/articles/PMC8157593/\\\" target=\\\"_blank\\\" rel=\\\"noreferrer noopener\\\">Phthalates</a> &#8211; chemicals used in plastic to make it more durable</li>\\n\\n\\n\\n<li><a href=\\\"https://www.epa.gov/sites/default/files/documents/rmpp_6thed_ch5_organophosphates.pdf\\\" target=\\\"_blank\\\" rel=\\\"noreferrer noopener\\\">Pesticides</a> &#8211; insect-killing chemicals used in agriculture</li>\\n\\n\\n\\n<li><a href=\\\"https://doh.wa.gov/community-and-environment/contaminants/pbdes\\\" target=\\\"_blank\\\" rel=\\\"noreferrer noopener\\\">Flame Retardants (PBDEs) </a>&#8211; chemicals added to products to prevent them from burning</li>\\n\\n\\n\\n<li><a href=\\\"https://www.epa.gov/mercury/health-effects-exposures-mercury\\\" target=\\\"_blank\\\" rel=\\\"noreferrer noopener\\\">Mercury</a> &#8211; a heavy metal and known neurotoxin.</li>\\n</ul>\\n\\n\\n\\n<p>Researchers found that PFAS, pesticides, and flame retardants were associated with the highest risk of metabolic syndrome. On the other hand, chemical classes, including phthalates, bisphenols, and parabens, did not demonstrate an increased risk.</p>\\n\\n\\n\\n<p>Of all the EDCs, metals, predominantly mercury, had the largest association with metabolic syndrome.</p>\\n\\n\\n\\n<p>Associations also varied by sex: female children showed stronger associations to certain EDCs than male children.</p>\\n\\n\\n\\n<p>“Associations were stronger in girls for mixtures of PFASs, while boys appeared to be more susceptible to exposure to parabens. Since endocrine disruptors interfere with sex steroid hormones, sex differences can be expected,” said Vrijheid.</p>\\n\\n\\n\\n<h2>How to stop exposure to endocrine-disrupting chemicals</h2>\\n\\n\\n\\n<p>Both Green and Vrijheid told Healthline that the most important step to limiting exposure to EDCs is regulation of the use of the chemicals themselves. Many of them are simply so pervasive in consumer products today that even pledging to not eat fast food or to stop using plastic likely isn’t enough.&nbsp;</p>\\n\\n\\n\\n<p>These are chemicals that are in<a href=\\\"https://www.epa.gov/pfas/pfas-explained\\\" target=\\\"_blank\\\" rel=\\\"noreferrer noopener\\\"> our water</a>, <a href=\\\"https://www.ewg.org/news-insights/news/flame-retardants-why-theyre-our-homes-and-how-avoid-them\\\" target=\\\"_blank\\\" rel=\\\"noreferrer noopener\\\">our homes</a>, even <a href=\\\"https://www.acs.org/pressroom/presspacs/2024/may/forever-chemicals-found-to-rain-down-on-all-five-great-lakes.html#:~:text=Perfluoroalkyl%20and%20polyfluoroalkyl%20substances%2C%20also,drinking%20water%20sources%20and%20precipitation.\\\" target=\\\"_blank\\\" rel=\\\"noreferrer noopener\\\">the air itself.</a></p>\\n\\n\\n\\n\\n\\n<p>“What has to happen is governmental interventions that clean the water supply that prevent companies from using these chemicals in their packaging, clothing, shampoos, makeup, and all of that,” said Green.</p>\\n\\n\\n\\n<p>“The first responsibility lies with regulators – exposure to toxic chemicals should be prevented, especially in vulnerable periods such as pregnancy and childhood…The results of studies such as ours are important to influence and improve both policy and practical guidance,” said Vrijheid.</p>\\n\\n\\n\\n<h2>The bottom line</h2>\\n\\n\\n\\n<p>Children of women exposed to endocrine-disrupting chemicals in pregnancy are more likely to develop pediatric metabolic syndrome and obesity.</p>\\n\\n\\n\\n<p>Researchers used longitudinal data from more than 1,000 moms and their children from six different European countries.</p>\\n\\n\\n\\n<p>EDCs include a wide array of chemicals, both natural and human-made, including PFAS, mercury, phthalates, and pesticides.</p>\\n\\n\\n\\n<p>Experts say more regulation is needed to eliminate these chemicals from consumer products.</p>\\n\n",
    "\n",
    "`;\n",
    "\n",
    "const metadata = {\n",
    "  sourceLanguage: 'english',\n",
    "  targetLanguage: 'spanish',\n",
    "};"
   ]
  },
  {
   "cell_type": "code",
   "execution_count": null,
   "id": "d57db4f6-ee68-4adc-ab39-cf87b0fea68d",
   "metadata": {},
   "outputs": [],
   "source": [
    "const graph = createTranslationGraph();\n",
    "\n",
    "const inputs = {\n",
    "    htmlContent: htmlContent,\n",
    "    metadata: metadata,\n",
    "    pragraphs: [],\n",
    "    translations: [],\n",
    "    messages: []\n",
    "}\n",
    "for await (\n",
    "  const chunk of await graph.stream(inputs, {\n",
    "    streamMode: \"values\",\n",
    "  })\n",
    ") {\n",
    "  console.log(chunk);\n",
    "  console.log(\"\\n====\\n\");\n",
    "}"
   ]
  },
  {
   "cell_type": "code",
   "execution_count": null,
   "id": "831e9ddf-01c0-4697-a69c-b6597c4d24ff",
   "metadata": {},
   "outputs": [],
   "source": [
    "async function test() {\n",
    "  const result = await translateContent(htmlContent, metadata);\n",
    "  console.log(result);\n",
    "}\n",
    "\n",
    "test();"
   ]
  },
  {
   "cell_type": "code",
   "execution_count": null,
   "id": "7058748b-0302-4d77-ae33-b6d8facde00e",
   "metadata": {},
   "outputs": [],
   "source": [
    "import { translatorGraph } from 'translator-graph';"
   ]
  },
  {
   "cell_type": "code",
   "execution_count": null,
   "id": "432e797a-3978-4351-ac0e-4a6bc459a3af",
   "metadata": {},
   "outputs": [],
   "source": [
    "  const result = await translatorGraph.invoke({\n",
    "    htmlContent:htmlContent,\n",
    "    metadata:metadata,\n",
    "    paragraphs: [],\n",
    "    translations: [],\n",
    "    messages: [],\n",
    "  });\n",
    "  \n",
    "  console.log(result);"
   ]
  },
  {
   "cell_type": "code",
   "execution_count": null,
   "id": "50df276c-75b1-407c-9329-ebd9638edc8e",
   "metadata": {},
   "outputs": [],
   "source": []
  }
 ],
 "metadata": {
  "kernelspec": {
   "display_name": "TypeScript",
   "language": "typescript",
   "name": "tslab"
  },
  "language_info": {
   "codemirror_mode": {
    "mode": "typescript",
    "name": "javascript",
    "typescript": true
   },
   "file_extension": ".ts",
   "mimetype": "text/typescript",
   "name": "typescript",
   "version": "3.7.2"
  }
 },
 "nbformat": 4,
 "nbformat_minor": 5
}
