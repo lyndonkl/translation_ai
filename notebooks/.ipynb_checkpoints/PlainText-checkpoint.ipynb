{
 "cells": [
  {
   "cell_type": "code",
   "execution_count": null,
   "id": "6439c4b6-c629-47cf-82fd-b93b49547f20",
   "metadata": {},
   "outputs": [],
   "source": [
    "import { createTranslationGraph, createTranslatorSubgraph } from 'translator-graph';"
   ]
  },
  {
   "cell_type": "code",
   "execution_count": null,
   "id": "d441ca78-6cb9-4eb2-b7fe-87033c34216a",
   "metadata": {},
   "outputs": [],
   "source": [
    "process.env.NODE_EXTRA_CA_CERTS = '/Users/kdsouza/Documents/Projects/cacerts/ZscalerRoot.pem';"
   ]
  },
  {
   "cell_type": "code",
   "execution_count": null,
   "id": "e15da565-4daa-452e-a7a3-a4aa33346899",
   "metadata": {},
   "outputs": [],
   "source": [
    "import * as tslab from \"tslab\";"
   ]
  },
  {
   "cell_type": "code",
   "execution_count": null,
   "id": "5b84a9dd-d0d6-447a-b426-2c609f052931",
   "metadata": {},
   "outputs": [],
   "source": [
    "const graph = createTranslationGraph();\n",
    "const representation = graph.getGraph();\n",
    "const image = await representation.drawMermaidPng();\n",
    "const arrayBuffer = await image.arrayBuffer();\n",
    "\n",
    "await tslab.display.png(new Uint8Array(arrayBuffer));"
   ]
  },
  {
   "cell_type": "code",
   "execution_count": null,
   "id": "c726a00d-e801-4754-ba1f-900cf116787b",
   "metadata": {},
   "outputs": [],
   "source": [
    "const graph = createTranslatorSubgraph();\n",
    "const representation = graph.getGraph();\n",
    "const image = await representation.drawMermaidPng();\n",
    "const arrayBuffer = await image.arrayBuffer();\n",
    "\n",
    "await tslab.display.png(new Uint8Array(arrayBuffer));"
   ]
  },
  {
   "cell_type": "code",
   "execution_count": null,
   "id": "68614a31-e8ff-479e-a4a1-93628455a7d7",
   "metadata": {},
   "outputs": [],
   "source": [
    "const input = `\n",
    "4 Steps for Managing a COPD Flare-Up\n",
    "\n",
    "You may be able to manage the symptoms of COPD exacerbations with medication and oxygen. In some cases, you may need emergency treatment.\n",
    "\n",
    "If you live with chronic obstructive pulmonary disease (COPD), you may have experienced exacerbations, or sudden flare-ups of respiratory symptoms like breathlessness, coughing, and wheezing.\n",
    "\n",
    "COPD flares can be frightening and uncomfortable, but their effects go beyond the attack itself. The more exacerbations you experience, the more hospitalizations you may need.\n",
    "\n",
    "Learning to prevent and manage exacerbations can help you stay on top of the initial signs of an attack and avoid urgent trips to the doctor.\n",
    "\n",
    "Signs of a COPD flare\n",
    "During a COPD exacerbation, your airway and lung functions change quickly and dramatically. You may suddenly experience more mucus clogging your bronchial tubes, or the muscles around your airways may constrict significantly, cutting off your air supply.\n",
    "\n",
    "Common symptoms of a COPD flare include:\n",
    "\n",
    "shortness of breath\n",
    "increase in coughing attacks\n",
    "wheezing\n",
    "increase in mucus production\n",
    "fatigue\n",
    "sleep problems\n",
    "cognitive impairment\n",
    "Do not wait to see if your COPD symptoms improve. If you’re having difficulty and your symptoms are getting worse, medicate appropriately and right away.\n",
    "\n",
    "Use a quick-acting inhaler\n",
    "Relief or rescue inhalers work by sending a powerful stream of medication straight to your constricted lungs. An inhaler should help relax the tissues in your airways quickly, helping you breathe a little easier.\n",
    "\n",
    "Quick-acting inhalers are an important meansTrusted Source of exacerbation relief and prevention.\n",
    "\n",
    "Common short-acting bronchodilators are anticholinergics and beta2-agonists. They’ll get to work more effectively if you use them with either a spacer or nebulizer.\n",
    "\n",
    "Take oral corticosteroids to reduce inflammation\n",
    "Oral corticosteroids reduce swelling and may help widen your airways to let more air in and out of your lungs.\n",
    "\n",
    "Your doctor may prescribe corticosteroids for a short timeTrusted Source or more after a flare to help manage the inflammation.\n",
    "\n",
    "Use an oxygen tank\n",
    "If you use supplemental oxygen at home, you may want to take advantage of the supply during a flare.\n",
    "\n",
    "It’s best to follow the COPD action plan designed by your doctor and attempt to relax in order to manage your breathing while you’re taking in oxygen.\n",
    "\n",
    "Shift to a mechanical intervention\n",
    "In some situations, rescue medication, anti-inflammatory steroids, and oxygen therapy won’t bring your exacerbation symptoms back down to a manageable state.\n",
    "\n",
    "In this instance, doctors may use a machine to help you breathe. Mechanical ventilation can greatly improve outcomes for people admitted to the hospital due to COPD flares.\n",
    "\n",
    "This can be a life-saving therapy if a person experiences acute lung failure due to COPD. Mechanical interventions may be invasive or noninvasiveTrusted Source.\n",
    "\n",
    "When to seek help and what to expect\n",
    "If you notice that your at-home treatment isn’t bringing you relief, it’s best to reach out for help. Call an ambulance or have a loved one make the call for you.\n",
    "\n",
    "During an episode, try to stay calm to minimize your symptoms. But if you feel overwhelmed, reach out for help right away.\n",
    "\n",
    "Once you arrive at the hospital, you may need a continuous nebulized bronchodilator like theophylline to help manage your symptoms. You may also need an IV to rehydrate your body, mechanical ventilation, and antibiotics to prevent respiratory infections like pneumonia.\n",
    "\n",
    "It’s important to talk with your doctor about rescue medication to take when an unexpected situation brings on your symptoms. Most people recover their breathing after taking steps to contain their symptoms.\n",
    "\n",
    "Summary\n",
    "COPD flare-ups are sudden periods of severe symptoms. The frequency and severity of flare-ups will vary among people, but they are typically treatable without emergency intervention.\n",
    "\n",
    "Inhaled medications and supplementary oxygen units can often help resolve COPD flares at home. However, in severe cases, emergency mechanical ventilation may be necessary.\n",
    "`;\n",
    "\n",
    "const metadata = {\n",
    "  sourceLanguage: 'english',\n",
    "  targetLanguage: 'spanish',\n",
    "};\n",
    "\n",
    "const plainText = true"
   ]
  },
  {
   "cell_type": "code",
   "execution_count": null,
   "id": "c527c617-0bdb-49e0-a325-1ac37ce0b3a4",
   "metadata": {},
   "outputs": [],
   "source": [
    "import { translatorGraph } from 'translator-graph';"
   ]
  },
  {
   "cell_type": "code",
   "execution_count": null,
   "id": "31a2d9d6-2809-4057-b124-03b92efb73f7",
   "metadata": {},
   "outputs": [],
   "source": [
    "const result = await translatorGraph.invoke({\n",
    "    input: input,\n",
    "    metadata: metadata,\n",
    "    plainText: plainText\n",
    "});\n",
    "\n",
    "console.log(result);"
   ]
  },
  {
   "cell_type": "code",
   "execution_count": null,
   "id": "9b38ead6-75a7-4256-8091-930cd3d38b1c",
   "metadata": {},
   "outputs": [],
   "source": []
  }
 ],
 "metadata": {
  "kernelspec": {
   "display_name": "TypeScript",
   "language": "typescript",
   "name": "tslab"
  },
  "language_info": {
   "codemirror_mode": {
    "mode": "typescript",
    "name": "javascript",
    "typescript": true
   },
   "file_extension": ".ts",
   "mimetype": "text/typescript",
   "name": "typescript",
   "version": "3.7.2"
  }
 },
 "nbformat": 4,
 "nbformat_minor": 5
}
