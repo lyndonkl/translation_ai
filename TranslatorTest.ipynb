{
 "cells": [
  {
   "cell_type": "code",
   "execution_count": null,
   "id": "a8d3e960-961a-4cad-9bb8-6498efa747fe",
   "metadata": {},
   "outputs": [
    {
     "name": "stderr",
     "output_type": "stream",
     "text": [
      "unexpected error: Error: Unexpected pending rebuildTimer\n",
      "    at sys.setTimeout (/usr/local/lib/node_modules/\u001b[4mtslab\u001b[24m/dist/converter.js:111:19)\n",
      "    at scheduleProgramUpdate (/usr/local/lib/node_modules/\u001b[4mtslab\u001b[24m/node_modules/\u001b[4m@tslab\u001b[24m/typescript-for-tslab/lib/typescript.js:122735:35)\n",
      "    at onSourceFileChange (/usr/local/lib/node_modules/\u001b[4mtslab\u001b[24m/node_modules/\u001b[4m@tslab\u001b[24m/typescript-for-tslab/lib/typescript.js:122876:7)\n",
      "    at /usr/local/lib/node_modules/\u001b[4mtslab\u001b[24m/node_modules/\u001b[4m@tslab\u001b[24m/typescript-for-tslab/lib/typescript.js:122868:56\n",
      "    at updateContent (/usr/local/lib/node_modules/\u001b[4mtslab\u001b[24m/dist/converter.js:601:9)\n",
      "    at Object.convert (/usr/local/lib/node_modules/\u001b[4mtslab\u001b[24m/dist/converter.js:252:9)\n",
      "    at Object.execute (/usr/local/lib/node_modules/\u001b[4mtslab\u001b[24m/dist/executor.js:138:38)\n",
      "    at JupyterHandlerImpl.handleExecuteImpl (/usr/local/lib/node_modules/\u001b[4mtslab\u001b[24m/dist/jupyter.js:250:38)\n",
      "    at /usr/local/lib/node_modules/\u001b[4mtslab\u001b[24m/dist/jupyter.js:208:57\n",
      "    at async JupyterHandlerImpl.handleExecute (/usr/local/lib/node_modules/\u001b[4mtslab\u001b[24m/dist/jupyter.js:208:21)\n"
     ]
    }
   ],
   "source": [
    "import { translateContent } from '../dist';"
   ]
  },
  {
   "cell_type": "code",
   "execution_count": null,
   "id": "1b0d5955-10f9-4a58-adc8-808d21480e4e",
   "metadata": {},
   "outputs": [],
   "source": []
  },
  {
   "cell_type": "code",
   "execution_count": null,
   "id": "407dfd72-fffb-429b-8887-2d07f7d0e623",
   "metadata": {},
   "outputs": [],
   "source": []
  }
 ],
 "metadata": {
  "kernelspec": {
   "display_name": "TypeScript",
   "language": "typescript",
   "name": "tslab"
  },
  "language_info": {
   "codemirror_mode": {
    "mode": "typescript",
    "name": "javascript",
    "typescript": true
   },
   "file_extension": ".ts",
   "mimetype": "text/typescript",
   "name": "typescript",
   "version": "3.7.2"
  }
 },
 "nbformat": 4,
 "nbformat_minor": 5
}
